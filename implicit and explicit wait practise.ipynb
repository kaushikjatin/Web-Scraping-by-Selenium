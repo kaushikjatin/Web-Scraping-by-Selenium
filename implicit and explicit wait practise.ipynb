{
 "cells": [
  {
   "cell_type": "code",
   "execution_count": 1,
   "metadata": {},
   "outputs": [],
   "source": [
    "from selenium import webdriver;"
   ]
  },
  {
   "cell_type": "code",
   "execution_count": 19,
   "metadata": {},
   "outputs": [],
   "source": [
    "driver=webdriver.Chrome(executable_path='/Users/jatinkaushik/Downloads/chromedriver');"
   ]
  },
  {
   "cell_type": "markdown",
   "metadata": {},
   "source": [
    "# Now the next box which is commented contains the code which shows error due to no wait included before locating an element after quering the page"
   ]
  },
  {
   "cell_type": "code",
   "execution_count": null,
   "metadata": {},
   "outputs": [],
   "source": [
    "driver.get(\"https://www.dell.com/en-in\");\n",
    "text_box=driver.find_element_by_class_name('mh-search-input');\n",
    "type(text_box)\n",
    "text_box.send_keys(\"Gaming Laptops\")\n",
    "search_button=driver.find_element_by_class_name('mh-search-btn');\n",
    "search_button.click()\n",
    "type(search_button)\n",
    "# here we have scraped that page earlier and selected an laptop which is pointed by first_laptop.......\n",
    "first_laptop=driver.find_element_by_id('systems-image3');\n",
    "first_laptop.click()"
   ]
  },
  {
   "cell_type": "markdown",
   "metadata": {},
   "source": [
    "# ON RUNNING THE ABOVE BOX YOU WILL SEE THAT THE ABOVE BOX THROWS AN EXCEPTION DUE TO UNAVALIBILITY OF THE ELEMENT WHICH IS POINTED BY FIRST_LAPTOP"
   ]
  },
  {
   "cell_type": "markdown",
   "metadata": {},
   "source": [
    "# Now let us include the iplicit wait of  5seconds.."
   ]
  },
  {
   "cell_type": "code",
   "execution_count": 38,
   "metadata": {},
   "outputs": [],
   "source": [
    "driver.get(\"https://www.dell.com/en-in\");\n",
    "text_box=driver.find_element_by_class_name('mh-search-input');\n",
    "type(text_box)\n",
    "text_box.send_keys(\"Gaming Laptops\")\n",
    "search_button=driver.find_element_by_class_name('mh-search-btn');\n",
    "search_button.click()\n",
    "type(search_button)\n",
    "# inlcuding an implicit wait means that it will throw exception after waiting for 20sec but if no exception is generated it won't wait...\n",
    "driver.implicitly_wait(5)\n",
    "first_laptop=driver.find_element_by_id('systems-image3');\n",
    "first_laptop.click()"
   ]
  }
 ],
 "metadata": {
  "kernelspec": {
   "display_name": "Python 3",
   "language": "python",
   "name": "python3"
  },
  "language_info": {
   "codemirror_mode": {
    "name": "ipython",
    "version": 3
   },
   "file_extension": ".py",
   "mimetype": "text/x-python",
   "name": "python",
   "nbconvert_exporter": "python",
   "pygments_lexer": "ipython3",
   "version": "3.7.3"
  }
 },
 "nbformat": 4,
 "nbformat_minor": 2
}
